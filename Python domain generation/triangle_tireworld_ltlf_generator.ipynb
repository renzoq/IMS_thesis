{
 "cells": [
  {
   "cell_type": "markdown",
   "id": "fe91f362",
   "metadata": {},
   "source": [
    "### Generation of LTLf formula + partition file for triangle-tireworld domain (non-deterministic). Amount of layers can be altered"
   ]
  },
  {
   "cell_type": "code",
   "execution_count": null,
   "id": "072aef97",
   "metadata": {},
   "outputs": [],
   "source": [
    "# give number of layers as input\n",
    "number_of_layers = 3\n",
    "\n",
    "def generate_states(layers):\n",
    "    all_states = []\n",
    "    \n",
    "    # Generate states for each layer\n",
    "    for layer in range(1, layers + 1):\n",
    "        current_layer_states = [f'{i}{layer-i+1}' for i in range(1, layer + 1)]\n",
    "        all_states.append(current_layer_states)    \n",
    "    return all_states\n",
    "\n",
    "def print_and_return_states(all_states):\n",
    "    node_names = []\n",
    "    for layer in all_states:\n",
    "        print(\"layer: \", layer)\n",
    "        for location in layer:\n",
    "            node_names.append(location)\n",
    "    return node_names\n",
    "\n",
    "states = generate_states(number_of_layers)\n",
    "node_names = print_and_return_states(states)"
   ]
  },
  {
   "cell_type": "code",
   "execution_count": null,
   "id": "5805ab15",
   "metadata": {},
   "outputs": [],
   "source": [
    "def get_change_tire_actions(nodes):\n",
    "    action_list = []\n",
    "    for node in nodes:\n",
    "        action_list.append((\"changetire_\"+ node))\n",
    "    return action_list\n",
    "\n",
    "def get_spare_tire_states(nodes):\n",
    "    action_list = []\n",
    "    for node in nodes:\n",
    "        action_list.append((\"sparein_\"+ node))\n",
    "    return action_list\n",
    "\n",
    "def get_vehicle_at_states(nodes):\n",
    "    action_list = []\n",
    "    for node in nodes:\n",
    "        action_list.append((\"vehicleat_\"+ node))\n",
    "    return action_list\n",
    "\n",
    "def get_paths_and_movecar(all_states):\n",
    "    paths = []\n",
    "    move_car_list = []\n",
    "    \n",
    "    for i, layer in enumerate(all_states):\n",
    "        for j, location in enumerate(layer):\n",
    "            # try to add path to right node\n",
    "            if j+1< len(layer):\n",
    "                paths.append(\"road_\"+str(all_states[i][j])+\"_\"+str(all_states[i][j+1]))\n",
    "            # try to add path to left node\n",
    "            if j != 0:\n",
    "                paths.append(\"road_\"+str(all_states[i][j])+\"_\"+str(all_states[i][j-1]))\n",
    "            # try to add path to top right node\n",
    "            if i != 0:\n",
    "                try:\n",
    "                    paths.append(\"road_\"+str(all_states[i][j])+\"_\"+str(all_states[i-1][j]))\n",
    "                except: pass\n",
    "                if j != 0:\n",
    "                    # try to add path to top left node\n",
    "                    try:\n",
    "                        paths.append(\"road_\"+str(all_states[i][j])+\"_\"+str(all_states[i-1][j-1]))\n",
    "                    except: pass\n",
    "            # try to add path to bottom right node\n",
    "            if i != len(all_states):\n",
    "                try:\n",
    "                    paths.append(\"road_\"+str(all_states[i][j])+\"_\"+str(all_states[i+1][j+1]))\n",
    "                except: pass\n",
    "            # try to add path to bottom left node\n",
    "            try:\n",
    "                paths.append(\"road_\"+str(all_states[i][j])+\"_\"+str(all_states[i+1][j]))\n",
    "            except: pass\n",
    "            \n",
    "    # IF ANY ROADS NEED TO BE REMOVED, CAN BE DONE IN LINE BELOW. Moves allowed by agent are added dynamically\n",
    "    roads_to_remove = []\n",
    "    \n",
    "    paths = [road for road in paths if road not in roads_to_remove]\n",
    "    \n",
    "    for path in paths:\n",
    "        action, from_l, to_l = path.split('_')\n",
    "        move_car_list.append(\"movecar_\"+from_l+\"_\"+to_l)\n",
    "            \n",
    "    return paths, move_car_list"
   ]
  },
  {
   "cell_type": "code",
   "execution_count": null,
   "id": "2d991a1e",
   "metadata": {},
   "outputs": [],
   "source": [
    "print(\"environment locations: \", node_names)\n",
    "print()\n",
    "print(\"change tire actions: \", get_change_tire_actions(node_names))\n",
    "print()\n",
    "print(\"spare tires: \", get_spare_tire_states(node_names))\n",
    "print()\n",
    "print(\"vehicle at: \", get_vehicle_at_states(node_names))\n",
    "print()\n",
    "paths, move_car_list = get_paths_and_movecar(states)\n",
    "print(\"roads: \", paths)\n",
    "print()\n",
    "print(\"move car options: \", move_car_list)\n",
    "print()\n",
    "flattire = \"flattire\"\n",
    "print(\"flattire: \", flattire)\n",
    "print()"
   ]
  },
  {
   "cell_type": "code",
   "execution_count": null,
   "id": "b6acd1bf",
   "metadata": {},
   "outputs": [],
   "source": [
    "def get_mutual_exclusion_agent_actions(agent_actions):\n",
    "    all_actions_or = \" | \".join(agent_actions)\n",
    "    action_combinations = []\n",
    "    \n",
    "    for i, action in enumerate(agent_actions):\n",
    "        for j in range(i+1, len(agent_actions)):\n",
    "            action_combinations.append(\"!(\" + agent_actions[i] + \" & \" + agent_actions[j] + \")\")\n",
    "    \n",
    "    action_comb_str = \" & \".join(action_combinations)\n",
    "    \n",
    "    return all_actions_or, action_comb_str\n",
    "\n",
    "def get_agent_preconditions():\n",
    "    prec_list = []\n",
    "    # preconditions for 'movecar'\n",
    "    for move in move_car_list:\n",
    "        action, from_l, to_l = move.split('_')\n",
    "        prec_list.append(\"(!(vehicleat_\" + from_l + \" & road_\" + from_l + \"_\" + to_l + \" & !flattire) -> X(!\" + move + \"))\")\n",
    "        \n",
    "    # TODO: check if its not necessary to have a flat tire before changing it\n",
    "    # preconditions for 'changetire'\n",
    "    for change_act in get_change_tire_actions(node_names):\n",
    "        action, from_l = change_act.split('_')\n",
    "        prec_list.append(\"(!(sparein_\" + from_l + \" & vehicleat_\" + from_l + \" & flattire) -> X(!\" + change_act + \"))\")\n",
    "    \n",
    "    return prec_list"
   ]
  },
  {
   "cell_type": "code",
   "execution_count": null,
   "id": "6e2d26fc",
   "metadata": {},
   "outputs": [],
   "source": [
    "def get_environment_transitions():\n",
    "    effect_list = []\n",
    "    # effect 'movecar'\n",
    "    for move in move_car_list:\n",
    "        action, from_l, to_l = move.split('_')\n",
    "        effect_list.append(\"(vehicleat_\" + from_l + \" -> X(\" + move + \" -> (vehicleat_\" + to_l + \" & (flattire | !flattire))))\")\n",
    "        \n",
    "    # effect 'changetire'\n",
    "    for change_act in get_change_tire_actions(node_names):\n",
    "        action, from_l = change_act.split('_')\n",
    "        effect_list.append(\"(sparein_\" + from_l + \" & vehicleat_\" + from_l + \" -> X(\" + change_act  + \" -> (!sparein_\" + from_l + \" & !flattire & vehicleat_\" + from_l+ \")))\")\n",
    "    \n",
    "    return effect_list"
   ]
  },
  {
   "cell_type": "code",
   "execution_count": null,
   "id": "a97c71cc",
   "metadata": {},
   "outputs": [],
   "source": [
    "# use this for specifying which fluents never change during a run (like roads)\n",
    "def get_consistent_fluents(fluents):\n",
    "    return \"G(\" + \" & \".join(fluents) + \")\""
   ]
  },
  {
   "cell_type": "code",
   "execution_count": null,
   "id": "4080c3c4",
   "metadata": {},
   "outputs": [],
   "source": [
    "def get_next_spare_status():\n",
    "    sparetires = get_spare_tire_states(node_names)\n",
    "    sparenext = []\n",
    "    \n",
    "    for spare in sparetires:\n",
    "        action, location = spare.split('_')\n",
    "        sparenext.append(\"(!\" + spare + \" -> X(!\" + spare + \"))\")\n",
    "        sparenext.append(\"((\" + spare + \" & !changetire_\" + location + \") -> X(\" + spare + \"))\")\n",
    "    \n",
    "    return \"G(\" + \" & \".join(sparenext) + \")\"\n",
    "\n",
    "def get_agent_environment_actions():\n",
    "    paths, move_car_list = get_paths_and_movecar(states)\n",
    "    \n",
    "    environment_actions = get_vehicle_at_states(node_names) + get_spare_tire_states(node_names) + paths\n",
    "    agent_actions = move_car_list + get_change_tire_actions(node_names)\n",
    "    \n",
    "    return environment_actions, agent_actions"
   ]
  },
  {
   "cell_type": "markdown",
   "id": "4cee07b9",
   "metadata": {},
   "source": [
    "### the goal and initialization have to be set by hand (these are hardcoded):"
   ]
  },
  {
   "cell_type": "code",
   "execution_count": null,
   "id": "a81b8aef",
   "metadata": {},
   "outputs": [],
   "source": [
    "# this has to be set by hand\n",
    "def get_goal():\n",
    "    return \"F(vehicleat_21)\"\n",
    "\n",
    "# this has to be set by hand\n",
    "def get_initialization():\n",
    "    init_list = [\"!flattire\", \"vehicleat_11\", \"sparein_12\", \"sparein_11\", \"sparein_21\"]\n",
    "    \n",
    "    return \" & \".join(init_list)"
   ]
  },
  {
   "cell_type": "markdown",
   "id": "e982c860",
   "metadata": {},
   "source": [
    "### code block below retrieves the mutual exclusion of agent actions and specific environment fluents. Also agent preconditions are retrieved:"
   ]
  },
  {
   "cell_type": "code",
   "execution_count": null,
   "id": "7ba48a87",
   "metadata": {},
   "outputs": [],
   "source": [
    "# 'mutual_excl_all' contains the or-statement between all actions\n",
    "# 'mutual_excl_comb' contains the negation of all possible agent action combinations\n",
    "env_act_list, agent_act_list = get_agent_environment_actions()\n",
    "\n",
    "mutual_excl_all, mutual_excl_comb = get_mutual_exclusion_agent_actions(agent_act_list)\n",
    "mutual_excl_all_env, mutual_excl_comb_env = get_mutual_exclusion_agent_actions(get_vehicle_at_states(node_names))\n",
    "\n",
    "agent_prec_list = get_agent_preconditions()"
   ]
  },
  {
   "cell_type": "markdown",
   "id": "e6d3d78f",
   "metadata": {},
   "source": [
    "### partition file (copy and paste in '.part'-file)"
   ]
  },
  {
   "cell_type": "code",
   "execution_count": null,
   "id": "218afd01",
   "metadata": {},
   "outputs": [],
   "source": [
    "# retrieve all agent + environment actions in separate lists\n",
    "\n",
    "# print out partition file\n",
    "print(\".inputs: \", \" \".join(env_act_list), \" flattire\", sep='')\n",
    "print(\".outputs: \", \" \".join(agent_act_list), sep='')"
   ]
  },
  {
   "cell_type": "markdown",
   "id": "3af0d9ef",
   "metadata": {},
   "source": [
    "### LTLf formula (copy and paste in '.ltlf'-file):"
   ]
  },
  {
   "cell_type": "code",
   "execution_count": null,
   "id": "43503933",
   "metadata": {},
   "outputs": [],
   "source": [
    "# init\n",
    "print(\"(\", get_initialization(), \")\", sep='')"
   ]
  },
  {
   "cell_type": "code",
   "execution_count": null,
   "id": "e3a9c1fa-85bb-4186-98f0-dfc1b53de564",
   "metadata": {},
   "outputs": [],
   "source": [
    "# agent\n",
    "print(\"((\", mutual_excl_all, \") & \", mutual_excl_comb, \")\", sep='')"
   ]
  },
  {
   "cell_type": "code",
   "execution_count": null,
   "id": "3d192fe8-f076-4f86-9667-0935bfdf1759",
   "metadata": {},
   "outputs": [],
   "source": [
    "# environment\n",
    "# TODO: add flattire status\n",
    "print(\"(((\", mutual_excl_all_env, \") & \", mutual_excl_comb_env, \") & (\", \" & \".join(get_environment_transitions()), \") & (\", get_next_spare_status(), \") & \", get_consistent_fluents(paths), \")\", sep='')"
   ]
  },
  {
   "cell_type": "code",
   "execution_count": null,
   "id": "22d788eb-06a0-433f-9915-3e55d6561b94",
   "metadata": {},
   "outputs": [],
   "source": [
    "# preconditions agent actions\n",
    "print(\"(X(\", env_act_list[0], \" | !\", env_act_list[0] , \")) -> (\",\" & \".join(get_agent_preconditions()),\")\", sep=\"\")"
   ]
  },
  {
   "cell_type": "code",
   "execution_count": null,
   "id": "64c8a4e3-57b6-4996-aedb-bf365a8df544",
   "metadata": {},
   "outputs": [],
   "source": [
    "# goal\n",
    "print(get_goal(), sep='')"
   ]
  },
  {
   "cell_type": "code",
   "execution_count": null,
   "id": "f0dfc994-5650-4b6b-a670-aab4edcd9cf4",
   "metadata": {},
   "outputs": [],
   "source": [
    "# complete formula, written as follows: (G(phi_agent_unique_act) & ((phi_env_init & G(phi_env_transitions_and_fluents)) -> ((G(phi_agent_act_preconditions)) & (phi_goal))))\n",
    "print(\"(G((\", mutual_excl_all, \") & \", mutual_excl_comb, \")) & (((\", get_initialization(), \") & G(((\", mutual_excl_all_env, \") & \", mutual_excl_comb_env, \") & (\", \" & \".join(get_environment_transitions()), \") & (\", get_next_spare_status(), \") & \", get_consistent_fluents(paths), \")) -> ((G((X(\", env_act_list[0], \" | !\", env_act_list[0] , \")) -> (\",\" & \".join(get_agent_preconditions()),\"))) & (\", get_goal(), \")))\" , sep='')"
   ]
  }
 ],
 "metadata": {
  "kernelspec": {
   "display_name": "Python 3 (ipykernel)",
   "language": "python",
   "name": "python3"
  },
  "language_info": {
   "codemirror_mode": {
    "name": "ipython",
    "version": 3
   },
   "file_extension": ".py",
   "mimetype": "text/x-python",
   "name": "python",
   "nbconvert_exporter": "python",
   "pygments_lexer": "ipython3",
   "version": "3.11.7"
  }
 },
 "nbformat": 4,
 "nbformat_minor": 5
}
