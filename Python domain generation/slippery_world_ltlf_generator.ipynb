{
 "cells": [
  {
   "cell_type": "code",
   "execution_count": null,
   "id": "16f6be41",
   "metadata": {},
   "outputs": [],
   "source": [
    "# amount of columns and rows. Total amount of locations is gridsize^2\n",
    "\n",
    "# gridsize can be altered to increase the domain. all variables are generated based on this\n",
    "gridsize = 6\n",
    "\n",
    "def generate_locations(size):\n",
    "    rows = []\n",
    "    cols = []\n",
    "    \n",
    "    for i in range(size):\n",
    "        rows.append(\"r\"+str(i+1))\n",
    "        cols.append(\"c\"+str(i+1))\n",
    "        \n",
    "    return rows, cols\n",
    "\n",
    "rows, cols  = generate_locations(gridsize)\n",
    "agent_actions = [\"l\", \"r\", \"u\", \"d\"]"
   ]
  },
  {
   "cell_type": "markdown",
   "id": "21937ce3",
   "metadata": {},
   "source": [
    "### partition file: "
   ]
  },
  {
   "cell_type": "code",
   "execution_count": null,
   "id": "3a2969f0",
   "metadata": {},
   "outputs": [],
   "source": [
    "# print out partition file\n",
    "print(\".inputs: \", \" \".join(rows + cols), sep='')\n",
    "print(\".outputs: \", \" \".join(agent_actions), sep='')"
   ]
  },
  {
   "cell_type": "markdown",
   "id": "401afaa8",
   "metadata": {},
   "source": [
    "### mutual exclusion for actions/fluents + agent preconditions"
   ]
  },
  {
   "cell_type": "code",
   "execution_count": null,
   "id": "89b7addc",
   "metadata": {},
   "outputs": [],
   "source": [
    "def get_mutual_exclusion_actions(actions):\n",
    "    all_actions_or = \" | \".join(actions)\n",
    "    action_combinations = []\n",
    "    \n",
    "    for i, action in enumerate(actions):\n",
    "        for j in range(i+1, len(actions)):\n",
    "            action_combinations.append(\"!(\" + actions[i] + \" & \" + actions[j] + \")\")\n",
    "    \n",
    "    action_comb_str = \" & \".join(action_combinations)\n",
    "    \n",
    "    return all_actions_or, action_comb_str\n",
    "\n",
    "def get_agent_preconditions():\n",
    "    prec_list = []\n",
    "    \n",
    "    prec_list.append(\"(l -> !(\" + cols[0] + \"))\")\n",
    "    prec_list.append(\"(r -> !(\" + cols[-1] + \"))\")\n",
    "    prec_list.append(\"(u -> !(\" + rows[0] + \"))\")\n",
    "    prec_list.append(\"(d -> !(\" + rows[-1] + \"))\")\n",
    "    \n",
    "    return prec_list  "
   ]
  },
  {
   "cell_type": "markdown",
   "id": "e24abe35",
   "metadata": {},
   "source": [
    "### environment transitions (also states that remain the same)"
   ]
  },
  {
   "cell_type": "code",
   "execution_count": null,
   "id": "a95d169b",
   "metadata": {},
   "outputs": [],
   "source": [
    "def get_environment_transitions():\n",
    "    trans_list = []\n",
    "    \n",
    "    # action left\n",
    "    for i, col in enumerate(cols):\n",
    "        if i == 0:\n",
    "            pass\n",
    "        elif i-1 == 0:\n",
    "            trans_list.append(\"(\" + col + \" -> X(l -> \" + cols[i-1] + \"))\")\n",
    "        else:\n",
    "            trans_list.append(\"(\" + col + \" -> X(l -> (\" + cols[i-1] + \" | \" + cols[i-2] + \")))\")\n",
    "            \n",
    "    # action right\n",
    "    for i, col in enumerate(cols):\n",
    "        if i == len(cols)-1:\n",
    "            pass\n",
    "        elif i == len(cols)-2:\n",
    "            trans_list.append(\"(\" + col + \" -> X(r -> \" + cols[i+1] + \"))\")\n",
    "        else:\n",
    "            trans_list.append(\"(\" + col + \" -> X(r -> (\" + cols[i+1] + \" | \" + cols[i+2] + \")))\")\n",
    "    \n",
    "    # action up\n",
    "    for i, row in enumerate(rows):\n",
    "        if i == 0:\n",
    "            pass\n",
    "        elif i-1 == 0:\n",
    "            trans_list.append(\"(\" + row + \" -> X(u -> \" + rows[i-1] + \"))\")\n",
    "        else:\n",
    "            trans_list.append(\"(\" + row + \" -> X(u -> (\" + rows[i-1] + \" | \" + rows[i-2] + \")))\")\n",
    "            \n",
    "    # action down\n",
    "    for i, row in enumerate(rows):\n",
    "        if i == len(rows)-1:\n",
    "            pass\n",
    "        elif i == len(rows)-2:\n",
    "            trans_list.append(\"(\" + row + \" -> X(d -> \" + rows[i+1] + \"))\")\n",
    "        else:\n",
    "            trans_list.append(\"(\" + row + \" -> X(d -> (\" + rows[i+1] + \" | \" + rows[i+2] + \")))\")\n",
    "        \n",
    "    return trans_list\n",
    "\n",
    "def get_same_next_state():\n",
    "    next_list = []\n",
    "    \n",
    "    # stay in same column when going up or down\n",
    "    for col in cols:\n",
    "        next_list.append(\"(\" + col + \" -> X(u -> \" + col + \"))\")\n",
    "        next_list.append(\"(\" + col + \" -> X(d -> \" + col + \"))\")\n",
    "    \n",
    "    # stay in same row when going left or right\n",
    "    for row in rows:\n",
    "        next_list.append(\"(\" + row + \" -> X(l -> \" + row + \"))\")\n",
    "        next_list.append(\"(\" + row + \" -> X(r -> \" + row + \"))\")\n",
    "        \n",
    "    return next_list\n",
    "\n",
    "env_transitions = get_environment_transitions() + get_same_next_state()\n",
    "\n",
    "# TODO: check if same next state can be removed\n",
    "# env_transitions = get_environment_transitions()"
   ]
  },
  {
   "cell_type": "markdown",
   "id": "6a7f4624",
   "metadata": {},
   "source": [
    "### set init, goal, and game-over states below by hand (hardcoded):"
   ]
  },
  {
   "cell_type": "code",
   "execution_count": null,
   "id": "87b7a074",
   "metadata": {},
   "outputs": [],
   "source": [
    "def get_init():\n",
    "    return [\"r1\", \"c1\"]\n",
    "\n",
    "def get_goal():\n",
    "    return [\"r4\", \"c4\"]\n",
    "\n",
    "def get_game_over_states():\n",
    "    return [\"r3\", \"c2\"]"
   ]
  },
  {
   "cell_type": "code",
   "execution_count": null,
   "id": "7bb9a1de",
   "metadata": {},
   "outputs": [],
   "source": [
    "# get mutual exclusion for agent actions and for environment rows + cols (can be only in 1 row and 1 column at a time)\n",
    "mut_exc_agent_all, mut_exc_agent_comb = get_mutual_exclusion_actions(agent_actions)\n",
    "mut_exc_env_rows_all, mutual_excl_env_rows_comb = get_mutual_exclusion_actions(rows)\n",
    "mut_exc_env_cols_all, mutual_excl_env_cols_comb = get_mutual_exclusion_actions(cols)"
   ]
  },
  {
   "cell_type": "markdown",
   "id": "a704fdf9-3f25-4024-a46a-484e9229892e",
   "metadata": {},
   "source": [
    "## Below are outputs in separate parts (init, agent, environment, and goal)"
   ]
  },
  {
   "cell_type": "code",
   "execution_count": null,
   "id": "ac78794d-e5db-4f6f-a19a-935417bc8a4c",
   "metadata": {},
   "outputs": [],
   "source": [
    "# init\n",
    "print(\"(\", \" & \".join(get_init()), \")\", sep='')"
   ]
  },
  {
   "cell_type": "code",
   "execution_count": null,
   "id": "ee2439b8-0ab5-48ce-a822-dc890ad8d0f8",
   "metadata": {},
   "outputs": [],
   "source": [
    "# agent\n",
    "print(\"((\", mut_exc_agent_all, \") & \", mut_exc_agent_comb, \")\", sep='')"
   ]
  },
  {
   "cell_type": "code",
   "execution_count": null,
   "id": "6953e086-5918-4032-9e62-7defa19cf4d3",
   "metadata": {},
   "outputs": [],
   "source": [
    "# environment\n",
    "print(\"(((\", mut_exc_env_rows_all, \") & \", mutual_excl_env_rows_comb, \") & ((\", mut_exc_env_cols_all, \") & \", mutual_excl_env_cols_comb, \") & (\", \" & \".join(env_transitions), \"))\", sep='')"
   ]
  },
  {
   "cell_type": "code",
   "execution_count": null,
   "id": "95a0045e-053c-4174-95a6-16901323caa9",
   "metadata": {},
   "outputs": [],
   "source": [
    "# preconditions agent actions\n",
    "print(\"(G((X(\", cols[0], \" | !\", cols[0] , \")) -> (\",\" & \".join(get_agent_preconditions()),\")))\", sep=\"\")"
   ]
  },
  {
   "cell_type": "code",
   "execution_count": null,
   "id": "dd57bd3c-4dc1-4afd-bf75-d2bb9c933bc2",
   "metadata": {},
   "outputs": [],
   "source": [
    "# goal\n",
    "print(\"F(\", \" & \".join(get_goal()),\")\", sep='')"
   ]
  }
 ],
 "metadata": {
  "kernelspec": {
   "display_name": "Python 3 (ipykernel)",
   "language": "python",
   "name": "python3"
  },
  "language_info": {
   "codemirror_mode": {
    "name": "ipython",
    "version": 3
   },
   "file_extension": ".py",
   "mimetype": "text/x-python",
   "name": "python",
   "nbconvert_exporter": "python",
   "pygments_lexer": "ipython3",
   "version": "3.11.7"
  }
 },
 "nbformat": 4,
 "nbformat_minor": 5
}
